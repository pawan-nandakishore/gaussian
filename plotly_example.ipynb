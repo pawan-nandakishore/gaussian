{
 "cells": [
  {
   "cell_type": "markdown",
   "metadata": {
    "toc": "true"
   },
   "source": [
    " # Table of Contents\n",
    "<div class=\"toc\" style=\"margin-top: 1em;\"><ul class=\"toc-item\" id=\"toc-level0\"></ul></div>"
   ]
  },
  {
   "cell_type": "code",
   "execution_count": 1,
   "metadata": {
    "ExecuteTime": {
     "end_time": "2018-04-25T22:34:42.063861Z",
     "start_time": "2018-04-25T22:34:41.987529Z"
    }
   },
   "outputs": [
    {
     "name": "stderr",
     "output_type": "stream",
     "text": [
      "C:\\Users\\Pawan\\Anaconda3\\lib\\site-packages\\IPython\\html.py:14: ShimWarning: The `IPython.html` package has been deprecated since IPython 4.0. You should import from `notebook` instead. `IPython.html.widgets` has moved to `ipywidgets`.\n",
      "  \"`IPython.html.widgets` has moved to `ipywidgets`.\", ShimWarning)\n",
      "C:\\Users\\Pawan\\Anaconda3\\lib\\site-packages\\ipykernel_launcher.py:8: UserWarning: IPython.utils.traitlets has moved to a top-level traitlets package.\n",
      "  \n"
     ]
    }
   ],
   "source": [
    "import json\n",
    "import time\n",
    "\n",
    "from __future__ import print_function # For py 2.7 compat\n",
    "\n",
    "from IPython.html import widgets # Widget definitions\n",
    "from IPython.display import display # Used to display widgets in the notebook\n",
    "from IPython.utils.traitlets import Unicode # Used to declare attributes of our widget"
   ]
  },
  {
   "cell_type": "code",
   "execution_count": 2,
   "metadata": {
    "ExecuteTime": {
     "end_time": "2018-04-25T22:34:44.631248Z",
     "start_time": "2018-04-25T22:34:44.610302Z"
    }
   },
   "outputs": [
    {
     "data": {
      "application/javascript": [
       "\n",
       "require([\"widgets/js/widget\"], function(WidgetManager){\n",
       "    \n",
       "    var GraphView = IPython.DOMWidgetView.extend({\n",
       "        render: function(){\n",
       "            // alert('render');\n",
       "            this.$graph = $('<iframe id=\"plotly-graph-1\" src=\"https://plot.ly/~chris/3375\" seamless width=\"600\" height=400></iframe>')\n",
       "                          .appendTo(this.$el);\n",
       "            this.$loading = $('<div id=\"graph-loading\">Initializing...</div>')\n",
       "                            .appendTo(this.$el);\n",
       "            \n",
       "            var pinger = setInterval(function(){\n",
       "                var plot = $('#plotly-graph-1')[0].contentWindow;                \n",
       "                console.log('posting ping');\n",
       "                plot.postMessage({ping: true}, 'https://plot.ly');\n",
       "            }, 2000);   \n",
       "            \n",
       "            window.addEventListener('message', function(e) {\n",
       "                var message = e.data;\n",
       "                if(message==='pong') {\n",
       "                    console.log('pong received, ready to receive');\n",
       "                    $('#graph-loading').hide()\n",
       "                    clearInterval(pinger);\n",
       "                }\n",
       "            });\n",
       "        },\n",
       "        \n",
       "        update: function() {\n",
       "            var message = this.model.get('value');\n",
       "            // alert(message)\n",
       "            \n",
       "            message = JSON.parse(message);\n",
       "            \n",
       "            var plot = $('#plotly-graph-1')[0].contentWindow;\n",
       "            plot.postMessage(message, 'https://plot.ly');\n",
       "            \n",
       "            // this.$graph.val(this.model.get('value'));\n",
       "            return GraphView.__super__.update.apply(this);\n",
       "        },\n",
       "    });\n",
       "    \n",
       "    // Register the DatePickerView with the widget manager.\n",
       "    WidgetManager.register_widget_view('GraphView', GraphView);\n",
       "});"
      ],
      "text/plain": [
       "<IPython.core.display.Javascript object>"
      ]
     },
     "metadata": {},
     "output_type": "display_data"
    }
   ],
   "source": [
    "%%javascript\n",
    "\n",
    "require([\"widgets/js/widget\"], function(WidgetManager){\n",
    "    \n",
    "    var GraphView = IPython.DOMWidgetView.extend({\n",
    "        render: function(){\n",
    "            // alert('render');\n",
    "            this.$graph = $('<iframe id=\"plotly-graph-1\" src=\"https://plot.ly/~chris/3375\" seamless width=\"600\" height=400></iframe>')\n",
    "                          .appendTo(this.$el);\n",
    "            this.$loading = $('<div id=\"graph-loading\">Initializing...</div>')\n",
    "                            .appendTo(this.$el);\n",
    "            \n",
    "            var pinger = setInterval(function(){\n",
    "                var plot = $('#plotly-graph-1')[0].contentWindow;                \n",
    "                console.log('posting ping');\n",
    "                plot.postMessage({ping: true}, 'https://plot.ly');\n",
    "            }, 2000);   \n",
    "            \n",
    "            window.addEventListener('message', function(e) {\n",
    "                var message = e.data;\n",
    "                if(message==='pong') {\n",
    "                    console.log('pong received, ready to receive');\n",
    "                    $('#graph-loading').hide()\n",
    "                    clearInterval(pinger);\n",
    "                }\n",
    "            });\n",
    "        },\n",
    "        \n",
    "        update: function() {\n",
    "            var message = this.model.get('value');\n",
    "            // alert(message)\n",
    "            \n",
    "            message = JSON.parse(message);\n",
    "            \n",
    "            var plot = $('#plotly-graph-1')[0].contentWindow;\n",
    "            plot.postMessage(message, 'https://plot.ly');\n",
    "            \n",
    "            // this.$graph.val(this.model.get('value'));\n",
    "            return GraphView.__super__.update.apply(this);\n",
    "        },\n",
    "    });\n",
    "    \n",
    "    // Register the DatePickerView with the widget manager.\n",
    "    WidgetManager.register_widget_view('GraphView', GraphView);\n",
    "});"
   ]
  },
  {
   "cell_type": "code",
   "execution_count": 3,
   "metadata": {
    "ExecuteTime": {
     "end_time": "2018-04-25T22:34:52.879587Z",
     "start_time": "2018-04-25T22:34:52.870612Z"
    }
   },
   "outputs": [
    {
     "name": "stderr",
     "output_type": "stream",
     "text": [
      "C:\\Users\\Pawan\\Anaconda3\\lib\\site-packages\\ipykernel_launcher.py:2: DeprecationWarning: metadata {'sync': True} was set from the constructor. With traitlets 4.1, metadata should be set using the .tag() method, e.g., Int().tag(key1='value1', key2='value2')\n",
      "  \n"
     ]
    }
   ],
   "source": [
    "class GraphWidget(widgets.DOMWidget):\n",
    "    _view_name = Unicode('GraphView', sync=True)\n",
    "    value = Unicode(sync=True)\n",
    "    description = Unicode(sync=True)"
   ]
  },
  {
   "cell_type": "code",
   "execution_count": 4,
   "metadata": {
    "ExecuteTime": {
     "end_time": "2018-04-25T22:34:53.741462Z",
     "start_time": "2018-04-25T22:34:53.722513Z"
    }
   },
   "outputs": [
    {
     "data": {
      "application/vnd.jupyter.widget-view+json": {
       "model_id": "628b28545f2d4347be372f3a6ec6e6b0",
       "version_major": 2,
       "version_minor": 0
      },
      "text/plain": [
       "GraphWidget()"
      ]
     },
     "metadata": {},
     "output_type": "display_data"
    }
   ],
   "source": [
    "g = GraphWidget()\n",
    "g"
   ]
  },
  {
   "cell_type": "code",
   "execution_count": 5,
   "metadata": {
    "ExecuteTime": {
     "end_time": "2018-04-25T22:34:54.853729Z",
     "start_time": "2018-04-25T22:34:54.842758Z"
    }
   },
   "outputs": [],
   "source": [
    "def restyle(data, traces=None):\n",
    "    \n",
    "    message = {'restyle': data}\n",
    "    if traces:\n",
    "        message['traces'] = traces\n",
    "        # message['restyle']['traces'] = traces\n",
    "    \n",
    "    g.value = json.dumps(message)"
   ]
  },
  {
   "cell_type": "code",
   "execution_count": 6,
   "metadata": {
    "ExecuteTime": {
     "end_time": "2018-04-25T22:34:56.713324Z",
     "start_time": "2018-04-25T22:34:56.703837Z"
    }
   },
   "outputs": [],
   "source": [
    "# Update the graph's data\n",
    "restyle({'x': [[1,2,3], \n",
    "               [1, 2, 4]], \n",
    "         'y': [[10,20,30],\n",
    "               [5, 8, 14]]\n",
    "}, traces=[0,1])"
   ]
  },
  {
   "cell_type": "code",
   "execution_count": 7,
   "metadata": {
    "ExecuteTime": {
     "end_time": "2018-04-25T22:34:58.174861Z",
     "start_time": "2018-04-25T22:34:58.169875Z"
    }
   },
   "outputs": [],
   "source": [
    "# Clear the graph\n",
    "restyle({'x': [], 'y': []})"
   ]
  },
  {
   "cell_type": "code",
   "execution_count": 8,
   "metadata": {
    "ExecuteTime": {
     "end_time": "2018-04-25T22:35:52.005755Z",
     "start_time": "2018-04-25T22:34:59.340665Z"
    }
   },
   "outputs": [],
   "source": [
    "# Update the graph in real-time\n",
    "x = []\n",
    "y = []\n",
    "for i in range(500):\n",
    "    x.append(i)\n",
    "    y.append(i)\n",
    "    \n",
    "    restyle({'x': [y], 'y': [x]}, traces=[0,1])\n",
    "    time.sleep(100./1000.)"
   ]
  },
  {
   "cell_type": "code",
   "execution_count": null,
   "metadata": {},
   "outputs": [],
   "source": []
  }
 ],
 "metadata": {
  "hide_input": false,
  "kernelspec": {
   "display_name": "Python 3",
   "language": "python",
   "name": "python3"
  },
  "language_info": {
   "codemirror_mode": {
    "name": "ipython",
    "version": 3
   },
   "file_extension": ".py",
   "mimetype": "text/x-python",
   "name": "python",
   "nbconvert_exporter": "python",
   "pygments_lexer": "ipython3",
   "version": "3.6.5"
  },
  "toc": {
   "nav_menu": {},
   "number_sections": true,
   "sideBar": true,
   "skip_h1_title": false,
   "toc_cell": true,
   "toc_position": {},
   "toc_section_display": "block",
   "toc_window_display": true
  },
  "varInspector": {
   "cols": {
    "lenName": 16,
    "lenType": 16,
    "lenVar": 40
   },
   "kernels_config": {
    "python": {
     "delete_cmd_postfix": "",
     "delete_cmd_prefix": "del ",
     "library": "var_list.py",
     "varRefreshCmd": "print(var_dic_list())"
    },
    "r": {
     "delete_cmd_postfix": ") ",
     "delete_cmd_prefix": "rm(",
     "library": "var_list.r",
     "varRefreshCmd": "cat(var_dic_list()) "
    }
   },
   "types_to_exclude": [
    "module",
    "function",
    "builtin_function_or_method",
    "instance",
    "_Feature"
   ],
   "window_display": false
  }
 },
 "nbformat": 4,
 "nbformat_minor": 1
}
