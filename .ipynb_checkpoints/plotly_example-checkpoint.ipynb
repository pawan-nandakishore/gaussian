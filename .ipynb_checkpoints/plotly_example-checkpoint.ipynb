{
 "metadata": {
  "name": "",
  "signature": "sha256:08a074960c11bce58f41fb37f57bb01d360949f3ad6d107fb952c0e5004c848e"
 },
 "nbformat": 3,
 "nbformat_minor": 0,
 "worksheets": [
  {
   "cells": [
    {
     "cell_type": "code",
     "collapsed": false,
     "input": [
      "import json\n",
      "import time\n",
      "\n",
      "from __future__ import print_function # For py 2.7 compat\n",
      "\n",
      "from IPython.html import widgets # Widget definitions\n",
      "from IPython.display import display # Used to display widgets in the notebook\n",
      "from IPython.utils.traitlets import Unicode # Used to declare attributes of our widget"
     ],
     "language": "python",
     "metadata": {},
     "outputs": [],
     "prompt_number": 10
    },
    {
     "cell_type": "code",
     "collapsed": false,
     "input": [
      "%%javascript\n",
      "\n",
      "require([\"widgets/js/widget\"], function(WidgetManager){\n",
      "    \n",
      "    var GraphView = IPython.DOMWidgetView.extend({\n",
      "        render: function(){\n",
      "            // alert('render');\n",
      "            this.$graph = $('<iframe id=\"plotly-graph-1\" src=\"https://plot.ly/~chris/3375\" seamless width=\"600\" height=400></iframe>')\n",
      "                          .appendTo(this.$el);\n",
      "            this.$loading = $('<div id=\"graph-loading\">Initializing...</div>')\n",
      "                            .appendTo(this.$el);\n",
      "            \n",
      "            var pinger = setInterval(function(){\n",
      "                var plot = $('#plotly-graph-1')[0].contentWindow;                \n",
      "                console.log('posting ping');\n",
      "                plot.postMessage({ping: true}, 'https://plot.ly');\n",
      "            }, 2000);   \n",
      "            \n",
      "            window.addEventListener('message', function(e) {\n",
      "                var message = e.data;\n",
      "                if(message==='pong') {\n",
      "                    console.log('pong received, ready to receive');\n",
      "                    $('#graph-loading').hide()\n",
      "                    clearInterval(pinger);\n",
      "                }\n",
      "            });\n",
      "        },\n",
      "        \n",
      "        update: function() {\n",
      "            var message = this.model.get('value');\n",
      "            // alert(message)\n",
      "            \n",
      "            message = JSON.parse(message);\n",
      "            \n",
      "            var plot = $('#plotly-graph-1')[0].contentWindow;\n",
      "            plot.postMessage(message, 'https://plot.ly');\n",
      "            \n",
      "            // this.$graph.val(this.model.get('value'));\n",
      "            return GraphView.__super__.update.apply(this);\n",
      "        },\n",
      "    });\n",
      "    \n",
      "    // Register the DatePickerView with the widget manager.\n",
      "    WidgetManager.register_widget_view('GraphView', GraphView);\n",
      "});"
     ],
     "language": "python",
     "metadata": {},
     "outputs": [
      {
       "javascript": [
        "\n",
        "require([\"widgets/js/widget\"], function(WidgetManager){\n",
        "    \n",
        "    var GraphView = IPython.DOMWidgetView.extend({\n",
        "        render: function(){\n",
        "            // alert('render');\n",
        "            this.$graph = $('<iframe id=\"plotly-graph-1\" src=\"https://plot.ly/~chris/3375\" seamless width=\"600\" height=400></iframe>')\n",
        "                          .appendTo(this.$el);\n",
        "            this.$loading = $('<div id=\"graph-loading\">Initializing...</div>')\n",
        "                            .appendTo(this.$el);\n",
        "            \n",
        "            var pinger = setInterval(function(){\n",
        "                var plot = $('#plotly-graph-1')[0].contentWindow;                \n",
        "                console.log('posting ping');\n",
        "                plot.postMessage({ping: true}, 'https://plot.ly');\n",
        "            }, 2000);   \n",
        "            \n",
        "            window.addEventListener('message', function(e) {\n",
        "                var message = e.data;\n",
        "                if(message==='pong') {\n",
        "                    console.log('pong received, ready to receive');\n",
        "                    $('#graph-loading').hide()\n",
        "                    clearInterval(pinger);\n",
        "                }\n",
        "            });\n",
        "        },\n",
        "        \n",
        "        update: function() {\n",
        "            var message = this.model.get('value');\n",
        "            // alert(message)\n",
        "            \n",
        "            message = JSON.parse(message);\n",
        "            \n",
        "            var plot = $('#plotly-graph-1')[0].contentWindow;\n",
        "            plot.postMessage(message, 'https://plot.ly');\n",
        "            \n",
        "            // this.$graph.val(this.model.get('value'));\n",
        "            return GraphView.__super__.update.apply(this);\n",
        "        },\n",
        "    });\n",
        "    \n",
        "    // Register the DatePickerView with the widget manager.\n",
        "    WidgetManager.register_widget_view('GraphView', GraphView);\n",
        "});"
       ],
       "metadata": {},
       "output_type": "display_data",
       "text": [
        "<IPython.core.display.Javascript at 0x103ad1150>"
       ]
      }
     ],
     "prompt_number": 4
    },
    {
     "cell_type": "code",
     "collapsed": false,
     "input": [
      "class GraphWidget(widgets.DOMWidget):\n",
      "    _view_name = Unicode('GraphView', sync=True)\n",
      "    value = Unicode(sync=True)\n",
      "    description = Unicode(sync=True)"
     ],
     "language": "python",
     "metadata": {},
     "outputs": [],
     "prompt_number": 5
    },
    {
     "cell_type": "code",
     "collapsed": false,
     "input": [
      "g = GraphWidget()\n",
      "g"
     ],
     "language": "python",
     "metadata": {},
     "outputs": [],
     "prompt_number": 6
    },
    {
     "cell_type": "code",
     "collapsed": false,
     "input": [
      "def restyle(data, traces=None):\n",
      "    \n",
      "    message = {'restyle': data}\n",
      "    if traces:\n",
      "        message['traces'] = traces\n",
      "        # message['restyle']['traces'] = traces\n",
      "    \n",
      "    g.value = json.dumps(message)"
     ],
     "language": "python",
     "metadata": {},
     "outputs": [],
     "prompt_number": 7
    },
    {
     "cell_type": "code",
     "collapsed": false,
     "input": [
      "# Update the graph's data\n",
      "restyle({'x': [[1,2,3], \n",
      "               [1, 2, 4]], \n",
      "         'y': [[10,20,30],\n",
      "               [5, 8, 14]]\n",
      "}, traces=[0,1])"
     ],
     "language": "python",
     "metadata": {},
     "outputs": [],
     "prompt_number": 8
    },
    {
     "cell_type": "code",
     "collapsed": false,
     "input": [
      "# Clear the graph\n",
      "restyle({'x': [], 'y': []})"
     ],
     "language": "python",
     "metadata": {},
     "outputs": [],
     "prompt_number": 14
    },
    {
     "cell_type": "code",
     "collapsed": false,
     "input": [
      "# Update the graph in real-time\n",
      "x = []\n",
      "y = []\n",
      "for i in range(500):\n",
      "    x.append(i)\n",
      "    y.append(i)\n",
      "    \n",
      "    restyle({'x': [y], 'y': [x]}, traces=[0,1])\n",
      "    time.sleep(100./1000.)"
     ],
     "language": "python",
     "metadata": {},
     "outputs": [],
     "prompt_number": 17
    }
   ],
   "metadata": {}
  }
 ]
}